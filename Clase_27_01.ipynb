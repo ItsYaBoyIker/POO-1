{
  "nbformat": 4,
  "nbformat_minor": 0,
  "metadata": {
    "colab": {
      "provenance": []
    },
    "kernelspec": {
      "name": "python3",
      "display_name": "Python 3"
    },
    "language_info": {
      "name": "python"
    }
  },
  "cells": [
    {
      "cell_type": "markdown",
      "source": [
        "#Conjuntos y listas\n",
        "\n",
        "-Conjuntos finitos:\n",
        "$$\\{ o_1, o_2, \\dots, o_n\\}$$\n",
        "\n",
        "-Listas finitas:\n",
        "$$[l_1,l_2,\\dots, l_n]$$\n",
        "\n",
        "En Python, existe la funcion `range(a,b)`donde $a, b\\geq 0$\n",
        "\n"
      ],
      "metadata": {
        "id": "xkV2HdSnckCX"
      }
    },
    {
      "cell_type": "code",
      "execution_count": null,
      "metadata": {
        "id": "ZDzdxFrBb0p6"
      },
      "outputs": [],
      "source": [
        "range(10)"
      ]
    },
    {
      "cell_type": "markdown",
      "source": [
        "¿Cómo puedo over a los elementos de este generador de indices?"
      ],
      "metadata": {
        "id": "fJ5wkpIyfjD3"
      }
    },
    {
      "cell_type": "code",
      "source": [
        "for i in range(10) :\n",
        "   print(i)"
      ],
      "metadata": {
        "id": "Xp7uPtcZgDCE"
      },
      "execution_count": null,
      "outputs": []
    },
    {
      "cell_type": "code",
      "source": [
        "#Vamos a construir dos conjuntos\n",
        "\n",
        "Pares = {i for i in range (21) if i%2==0}\n",
        "print (f\"Pares: {Pares}\")\n",
        "\n",
        "Impares = {i for i in range (21) if i%2==1}\n",
        "print (f\"Impares: {Impares}\")\n",
        "\n",
        "C= {17, 7, 19, 77, 56, 8, 12, 10, 13, 20, 16}\n",
        "C, type(C)\n",
        "\n",
        "Pares.intersection(Impares)\n",
        "set ()\n",
        "Pares.union(Impares)\n",
        "\n",
        "Impares.difference(C)"
      ],
      "metadata": {
        "id": "aCYwF6LAhEHL"
      },
      "execution_count": null,
      "outputs": []
    },
    {
      "cell_type": "markdown",
      "source": [
        "**Los objetos en Python tienen atributos**"
      ],
      "metadata": {
        "id": "5h1pW0MdkDjv"
      }
    },
    {
      "cell_type": "code",
      "source": [
        "Pares.intersection(Impares)\n",
        "set ()\n"
      ],
      "metadata": {
        "id": "9CkCdWM0kKQv"
      },
      "execution_count": null,
      "outputs": []
    },
    {
      "cell_type": "code",
      "source": [
        "Pares.union(Impares)\n"
      ],
      "metadata": {
        "id": "mMgctPnFklFj"
      },
      "execution_count": null,
      "outputs": []
    },
    {
      "cell_type": "markdown",
      "source": [
        "#Lista"
      ],
      "metadata": {
        "id": "borPDfTVl1lH"
      }
    },
    {
      "cell_type": "code",
      "source": [
        "Lista_pares = list(Pares)\n",
        "Lista_pares"
      ],
      "metadata": {
        "id": "WqvCB9ZTl5Kh"
      },
      "execution_count": null,
      "outputs": []
    },
    {
      "cell_type": "code",
      "source": [],
      "metadata": {
        "id": "2RVt3DVbmwVZ"
      },
      "execution_count": null,
      "outputs": []
    }
  ]
}