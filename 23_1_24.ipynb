{
  "nbformat": 4,
  "nbformat_minor": 0,
  "metadata": {
    "colab": {
      "provenance": []
    },
    "kernelspec": {
      "name": "python3",
      "display_name": "Python 3"
    },
    "language_info": {
      "name": "python"
    }
  },
  "cells": [
    {
      "cell_type": "code",
      "execution_count": null,
      "metadata": {
        "id": "RFgNaTWvsj5w"
      },
      "outputs": [],
      "source": []
    },
    {
      "cell_type": "markdown",
      "source": [
        "#Introduccion a Python\n",
        "##¿Qué veremos hoy?\n",
        "\n",
        "  1. Objetos\n",
        "  2. Variables\n",
        "  3. Ejemplo\n",
        "  \n"
      ],
      "metadata": {
        "id": "9VjYsFohsk9k"
      }
    },
    {
      "cell_type": "markdown",
      "source": [
        "##Algunos objetos en Python:\n",
        "\n",
        "1. int y float (enteros y flotantes)\n",
        "2. str (string)\n",
        "3. conjuntos y listas\n",
        "\n",
        "---\n",
        "\n",
        "**La función `print` y la funcion `type` **\n"
      ],
      "metadata": {
        "id": "PUieg56y7ANl"
      }
    },
    {
      "cell_type": "markdown",
      "source": [
        "**Nota**: En este proceador de texto, se puede escribir en html y en latex\n",
        "Por ejemplo, vamos a escribir a la ecuación más hermosa:\n",
        "$e^{i\\pi}+1=0$\n",
        "Otro ejemplo: Vamos a escribir una matriz en LaTeX\n",
        "\\begin{pmatrix}\n",
        "a & b \\\\\n",
        "c & d\n",
        "\\end{pmatrix}"
      ],
      "metadata": {
        "id": "Y45Gl01Vt9v4"
      }
    },
    {
      "cell_type": "code",
      "source": [
        "#Vamos a imprimir hola mundo\n",
        "print (\"Cesar\")\n",
        "print (\"Hola mundo\")\n"
      ],
      "metadata": {
        "colab": {
          "base_uri": "https://localhost:8080/"
        },
        "id": "XspSNRc2s6Bb",
        "outputId": "e720f127-36d4-4713-8f95-8e0a1614c1d2"
      },
      "execution_count": 1,
      "outputs": [
        {
          "output_type": "stream",
          "name": "stdout",
          "text": [
            "Hola mundo\n"
          ]
        }
      ]
    },
    {
      "cell_type": "markdown",
      "source": [
        "#### Operaciones básicas en int o float\n",
        "\n",
        "\n",
        "\n",
        "*   $+,-$ Suma y resta\n",
        "*   $*,/,**$ Multiplicacion, dividir y potenciar\n",
        "*   % Operacion modular\n",
        "*   // Division al piso\n",
        "\n",
        "\n",
        "\n",
        "\n",
        "\n"
      ],
      "metadata": {
        "id": "u-QbM-6OAUpA"
      }
    },
    {
      "cell_type": "markdown",
      "source": [
        "**Creacion de variables**\n",
        "\n",
        "nombre = objeto"
      ],
      "metadata": {
        "id": "-eL3amrZFTHP"
      }
    },
    {
      "cell_type": "code",
      "source": [
        "#Vamos a crear dos variables\n",
        "\n",
        "x = 7\n",
        "y = 3\n",
        "print(f\" La suma entre {x} y {y} es {x+y}\")\n",
        "print(f\"La potencia entre {x} y {y} es {x**y}\")\n",
        "print(f\" El residuo entre {x} y {y} es {x%y}\")\n",
        "print(f\" La division al piso entre {x} y {y} es {x//y}\")"
      ],
      "metadata": {
        "colab": {
          "base_uri": "https://localhost:8080/"
        },
        "id": "W4GOBF50Ey_k",
        "outputId": "e35e42ba-d05a-4e7f-c7d2-81c44a488300"
      },
      "execution_count": 6,
      "outputs": [
        {
          "output_type": "stream",
          "name": "stdout",
          "text": [
            " La suma entre 7 y 3 es 10\n",
            "La potencia entre 7 y 3 es 343\n",
            " El residuo entre 7 y 3 es 1\n",
            " La division al piso entre 7 y 3 es 2\n"
          ]
        }
      ]
    },
    {
      "cell_type": "code",
      "source": [
        "type(x/y), type(\"Cesar\")"
      ],
      "metadata": {
        "colab": {
          "base_uri": "https://localhost:8080/"
        },
        "id": "J05uYhPyJCV9",
        "outputId": "6c8fc6f9-441c-4946-8c80-dbab587988c8"
      },
      "execution_count": 7,
      "outputs": [
        {
          "output_type": "execute_result",
          "data": {
            "text/plain": [
              "(float, str)"
            ]
          },
          "metadata": {},
          "execution_count": 7
        }
      ]
    }
  ]
}