{
  "nbformat": 4,
  "nbformat_minor": 0,
  "metadata": {
    "colab": {
      "provenance": []
    },
    "kernelspec": {
      "name": "python3",
      "display_name": "Python 3"
    },
    "language_info": {
      "name": "python"
    }
  },
  "cells": [
    {
      "cell_type": "code",
      "execution_count": null,
      "metadata": {
        "id": "ePzryTAbu_1K"
      },
      "outputs": [],
      "source": []
    },
    {
      "cell_type": "markdown",
      "source": [
        "#Arreglos y clases\n",
        "##Mátrices\n",
        "Una matriz es un arreglo de n*n elementos\n",
        "\\[\n",
        "A =\n",
        "\\begin{bmatrix}\n",
        "a_{11} & a_{12} & \\cdots & a_{1n} \\\\\n",
        "a_{21} & a_{22} & \\cdots & a_{2n} \\\\\n",
        "\\vdots & \\vdots & \\ddots & \\vdots \\\\\n",
        "a_{n1} & a_{n2} & \\cdots & a_{nn}\n",
        "\\end{bmatrix}\n",
        "\\]"
      ],
      "metadata": {
        "id": "IH95ZzWOvJ2I"
      }
    },
    {
      "cell_type": "code",
      "source": [
        "A = [[1,2,3],[4,5,6],[7,8,9]]\n",
        "print(A)\n",
        "B=[[21,34,40],[71,17,77],[73,81,28]]\n",
        "print(2*A)\n",
        "#A[0,0] Esto no se puede iterar"
      ],
      "metadata": {
        "colab": {
          "base_uri": "https://localhost:8080/"
        },
        "id": "USt4Ilk0xZ0F",
        "outputId": "abf0ec5a-a4e2-4f44-b81c-1459bb255333"
      },
      "execution_count": null,
      "outputs": [
        {
          "output_type": "stream",
          "name": "stdout",
          "text": [
            "[[1, 2, 3], [4, 5, 6], [7, 8, 9]]\n",
            "[[1, 2, 3], [4, 5, 6], [7, 8, 9], [1, 2, 3], [4, 5, 6], [7, 8, 9]]\n"
          ]
        },
        {
          "output_type": "execute_result",
          "data": {
            "text/plain": [
              "[1, 2, 3]"
            ]
          },
          "metadata": {},
          "execution_count": 15
        }
      ]
    },
    {
      "cell_type": "markdown",
      "source": [
        "##Vectores y listas"
      ],
      "metadata": {
        "id": "vAv0_S0J09DX"
      }
    },
    {
      "cell_type": "code",
      "source": [
        "L= A[0]\n",
        "M= B[0]\n",
        "print(L+M)"
      ],
      "metadata": {
        "colab": {
          "base_uri": "https://localhost:8080/"
        },
        "id": "m9kAQXW21MDA",
        "outputId": "cac49f44-2e81-486e-f66e-af54a7798d2c"
      },
      "execution_count": null,
      "outputs": [
        {
          "output_type": "stream",
          "name": "stdout",
          "text": [
            "[1, 2, 3, 21, 34, 40]\n"
          ]
        }
      ]
    },
    {
      "cell_type": "code",
      "source": [
        "a=L[0]\n",
        "print (a)\n",
        "b=M[0]\n",
        "print(a+b)"
      ],
      "metadata": {
        "colab": {
          "base_uri": "https://localhost:8080/"
        },
        "id": "6hv1z_QtyhlA",
        "outputId": "5d7085d5-903f-4cf9-f379-7cd0c0270070"
      },
      "execution_count": null,
      "outputs": [
        {
          "output_type": "stream",
          "name": "stdout",
          "text": [
            "1\n",
            "22\n"
          ]
        }
      ]
    },
    {
      "cell_type": "code",
      "source": [
        "a==1"
      ],
      "metadata": {
        "colab": {
          "base_uri": "https://localhost:8080/"
        },
        "id": "yNmloCcJ2U84",
        "outputId": "2c36d79d-a617-4a82-9df5-35cf19d96ca9"
      },
      "execution_count": null,
      "outputs": [
        {
          "output_type": "execute_result",
          "data": {
            "text/plain": [
              "True"
            ]
          },
          "metadata": {},
          "execution_count": 20
        }
      ]
    },
    {
      "cell_type": "markdown",
      "source": [
        "###Suma de \"Vectores\""
      ],
      "metadata": {
        "id": "OeJQ2nN434oa"
      }
    },
    {
      "cell_type": "code",
      "source": [
        "len(L)==len(M)\n",
        "suma=[L[0]+M[0],L[1]+M[1],L[2]+M[2]]\n",
        "print(suma)"
      ],
      "metadata": {
        "colab": {
          "base_uri": "https://localhost:8080/"
        },
        "id": "kYi0ysCS4BGg",
        "outputId": "3ef2df8b-fbe1-4176-bfd9-b906be405ebf"
      },
      "execution_count": null,
      "outputs": [
        {
          "output_type": "stream",
          "name": "stdout",
          "text": [
            "[22, 36, 43]\n"
          ]
        }
      ]
    },
    {
      "cell_type": "markdown",
      "source": [
        "####Creacion de funciones globales\n",
        "La función para crear funciones es `def` que se cuierra con un debug (print o return)"
      ],
      "metadata": {
        "id": "P6S168iKEWft"
      }
    },
    {
      "cell_type": "code",
      "source": [
        "def Hola():\n",
        "  print (\"Hola, me llamo Mateo\")"
      ],
      "metadata": {
        "id": "mQKIDPEjEvAT"
      },
      "execution_count": null,
      "outputs": []
    },
    {
      "cell_type": "code",
      "source": [
        "Hola()"
      ],
      "metadata": {
        "colab": {
          "base_uri": "https://localhost:8080/"
        },
        "id": "Qxk0Z1mEFa1c",
        "outputId": "fd1ce148-187d-461f-a90d-e25d4de84e9c"
      },
      "execution_count": null,
      "outputs": [
        {
          "output_type": "stream",
          "name": "stdout",
          "text": [
            "Hola, me llamo Mateo\n"
          ]
        }
      ]
    },
    {
      "cell_type": "code",
      "source": [
        "def Saludar (s,n):\n",
        "  print(f\"Hola, me llamo {s} y tengo {n} años\")"
      ],
      "metadata": {
        "id": "J8l5pBgUGb1n"
      },
      "execution_count": null,
      "outputs": []
    },
    {
      "cell_type": "code",
      "source": [
        "Saludar (\"Cesar\",18)"
      ],
      "metadata": {
        "colab": {
          "base_uri": "https://localhost:8080/"
        },
        "id": "TSJHaxE_Gxbx",
        "outputId": "6db3664c-0c7a-4707-ba9f-72d7486277b5"
      },
      "execution_count": null,
      "outputs": [
        {
          "output_type": "stream",
          "name": "stdout",
          "text": [
            "Hola, me llamo Cesar y tengo 18 años\n"
          ]
        }
      ]
    },
    {
      "cell_type": "code",
      "source": [
        "def par():\n",
        "  for x in range (10):\n",
        "    if x%2==0:\n",
        "      print(f\"{x} es par\")\n",
        "    else:\n",
        "        print(f\"{x} es impar\")"
      ],
      "metadata": {
        "id": "VtzuPdVLHxr6"
      },
      "execution_count": null,
      "outputs": []
    },
    {
      "cell_type": "code",
      "source": [
        "def suma_vectorial(L,M):\n",
        "  x = [L[i]+ M[i] for i in range(len(L))]\n",
        "  return x"
      ],
      "metadata": {
        "id": "5Wuq-BrvLQWf"
      },
      "execution_count": null,
      "outputs": []
    },
    {
      "cell_type": "code",
      "source": [
        "L = [1,2,3]\n",
        "M = [21, 34, 40]\n",
        "suma_vectorial (L,M)\n"
      ],
      "metadata": {
        "colab": {
          "base_uri": "https://localhost:8080/"
        },
        "id": "6SWrPHEQMBUj",
        "outputId": "6aa0ad1f-c2cd-40c4-b499-94739921302a"
      },
      "execution_count": null,
      "outputs": [
        {
          "output_type": "execute_result",
          "data": {
            "text/plain": [
              "[22, 36, 43]"
            ]
          },
          "metadata": {},
          "execution_count": 40
        }
      ]
    },
    {
      "cell_type": "markdown",
      "source": [
        "## Modulos o librerías\n"
      ],
      "metadata": {
        "id": "qZeTwkE3MpNc"
      }
    },
    {
      "cell_type": "code",
      "source": [
        "import math\n",
        "from math import *\n",
        "sqrt(68)\n",
        "\n"
      ],
      "metadata": {
        "colab": {
          "base_uri": "https://localhost:8080/"
        },
        "id": "OJZcML11NyDP",
        "outputId": "3bb219e2-a24b-4191-ab48-3de743298f30"
      },
      "execution_count": null,
      "outputs": [
        {
          "output_type": "execute_result",
          "data": {
            "text/plain": [
              "3.141592653589793"
            ]
          },
          "metadata": {},
          "execution_count": 41
        }
      ]
    },
    {
      "cell_type": "markdown",
      "source": [
        "#El módulo NumPy\n",
        "La función `array`\n"
      ],
      "metadata": {
        "id": "Lt98kGzqOquY"
      }
    },
    {
      "cell_type": "code",
      "source": [
        "import numpy as np\n",
        "\n",
        "l_vector = np.array(L)\n",
        "m_vector = np.array(M)\n",
        "l_vector+m_vector"
      ],
      "metadata": {
        "colab": {
          "base_uri": "https://localhost:8080/"
        },
        "id": "EJU5cpbUOv2A",
        "outputId": "6cb32771-5790-4266-969c-30d2bf78233a"
      },
      "execution_count": null,
      "outputs": [
        {
          "output_type": "execute_result",
          "data": {
            "text/plain": [
              "array([22, 36, 43])"
            ]
          },
          "metadata": {},
          "execution_count": 42
        }
      ]
    },
    {
      "cell_type": "code",
      "source": [
        "C = [9,2,2,2,3,3,2,17,2]\n",
        "A = [8,1,1,1,2,2,1,16,1]\n",
        "C_matriz = np.array(C).reshape(3,3)\n",
        "A_matriz = np.array(A).reshape(3,3)\n",
        "print (C_matriz)\n",
        "print (A_matriz)"
      ],
      "metadata": {
        "colab": {
          "base_uri": "https://localhost:8080/"
        },
        "id": "iR8Zo-0KQgjR",
        "outputId": "28edffac-2d88-4cae-8d26-73256c073d54"
      },
      "execution_count": null,
      "outputs": [
        {
          "output_type": "stream",
          "name": "stdout",
          "text": [
            "[[ 9  2  2]\n",
            " [ 2  3  3]\n",
            " [ 2 17  2]]\n",
            "[[ 8  1  1]\n",
            " [ 1  2  2]\n",
            " [ 1 16  1]]\n"
          ]
        }
      ]
    },
    {
      "cell_type": "code",
      "source": [
        "C_matriz @ A_matriz"
      ],
      "metadata": {
        "colab": {
          "base_uri": "https://localhost:8080/"
        },
        "id": "CtpNNnKbRCsJ",
        "outputId": "0d8469ba-a05e-4b12-be56-d2d78e7fb19a"
      },
      "execution_count": null,
      "outputs": [
        {
          "output_type": "execute_result",
          "data": {
            "text/plain": [
              "array([[76, 45, 15],\n",
              "       [22, 56, 11],\n",
              "       [35, 68, 38]])"
            ]
          },
          "metadata": {},
          "execution_count": 45
        }
      ]
    }
  ]
}