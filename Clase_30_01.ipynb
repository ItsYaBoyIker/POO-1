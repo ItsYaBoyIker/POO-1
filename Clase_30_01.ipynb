{
  "nbformat": 4,
  "nbformat_minor": 0,
  "metadata": {
    "colab": {
      "provenance": []
    },
    "kernelspec": {
      "name": "python3",
      "display_name": "Python 3"
    },
    "language_info": {
      "name": "python"
    }
  },
  "cells": [
    {
      "cell_type": "code",
      "execution_count": null,
      "metadata": {
        "id": "q0cYniqPriBB"
      },
      "outputs": [],
      "source": []
    },
    {
      "cell_type": "markdown",
      "source": [
        "**Listas e ingresos a listas**\n",
        "`range`(a,b)\n",
        "$$a ≥ 0$$\n",
        "$$b \\geq 0$$\n",
        "$$a \\le b$$\n",
        "\n"
      ],
      "metadata": {
        "id": "gr6b_UGtsIVH"
      }
    },
    {
      "cell_type": "code",
      "source": [
        "range (10)\n",
        "type(range(10))"
      ],
      "metadata": {
        "colab": {
          "base_uri": "https://localhost:8080/"
        },
        "id": "XjsAxo7Cx3FV",
        "outputId": "be04ec14-00de-4c82-9ca2-d62530680635"
      },
      "execution_count": 1,
      "outputs": [
        {
          "output_type": "execute_result",
          "data": {
            "text/plain": [
              "range"
            ]
          },
          "metadata": {},
          "execution_count": 1
        }
      ]
    },
    {
      "cell_type": "markdown",
      "source": [
        "La función `range` es el generador de indices de Python"
      ],
      "metadata": {
        "id": "9-xw-YPryYrQ"
      }
    },
    {
      "cell_type": "code",
      "source": [
        "for i in range(10):\n",
        "  print (i)"
      ],
      "metadata": {
        "colab": {
          "base_uri": "https://localhost:8080/"
        },
        "id": "wEH9fPbVynVa",
        "outputId": "9391eb09-39f7-4873-8e5b-46b63863c229"
      },
      "execution_count": 2,
      "outputs": [
        {
          "output_type": "stream",
          "name": "stdout",
          "text": [
            "0\n",
            "1\n",
            "2\n",
            "3\n",
            "4\n",
            "5\n",
            "6\n",
            "7\n",
            "8\n",
            "9\n"
          ]
        }
      ]
    },
    {
      "cell_type": "code",
      "source": [
        "lista = list(Pares)\n",
        "x = 7\n",
        "str (x)\n",
        "float (x)"
      ],
      "metadata": {
        "id": "TGM9ehSL1LWv"
      },
      "execution_count": null,
      "outputs": []
    },
    {
      "cell_type": "markdown",
      "source": [
        "**Listas y arreglos**"
      ],
      "metadata": {
        "id": "VZiTUtiZ_D4w"
      }
    },
    {
      "cell_type": "markdown",
      "source": [
        "Si $A$ un conjunto, sea $a\\in A$"
      ],
      "metadata": {
        "id": "6ugqV-GG_5MB"
      }
    },
    {
      "cell_type": "code",
      "source": [
        "# Si $A$ un conjunto, sea 4a\\in A$\n",
        "Indices= [i for i in range(0,21)]\n",
        "print(f\"Etiquetas: {Indices}\")"
      ],
      "metadata": {
        "id": "ix7Q6Ot01ged"
      },
      "execution_count": 7,
      "outputs": []
    },
    {
      "cell_type": "code",
      "source": [
        "Multiplos_3= [i for i in range (0,21) if i%3==0]\n",
        "print(f\"Multiplos de 3: {Multiplos_3}\")"
      ],
      "metadata": {
        "colab": {
          "base_uri": "https://localhost:8080/"
        },
        "id": "0Av6dNq_BIDK",
        "outputId": "d27ccee0-b88e-421f-e100-ded49ce2008f"
      },
      "execution_count": 8,
      "outputs": [
        {
          "output_type": "execute_result",
          "data": {
            "text/plain": [
              "[0, 3, 6, 9]"
            ]
          },
          "metadata": {},
          "execution_count": 8
        }
      ]
    },
    {
      "cell_type": "markdown",
      "source": [
        "La `f` es cuando usamos strings con variables"
      ],
      "metadata": {
        "id": "1MaD6ntJD0RA"
      }
    },
    {
      "cell_type": "markdown",
      "source": [
        "**Ingresos**"
      ],
      "metadata": {
        "id": "Pt_uLXDrE2le"
      }
    },
    {
      "cell_type": "code",
      "source": [
        "Ceci = []\n",
        "Ceci.append(0,18)\n",
        "Ceci"
      ],
      "metadata": {
        "colab": {
          "base_uri": "https://localhost:8080/"
        },
        "id": "Mcgm8GYnFDxb",
        "outputId": "ba467103-ef50-47ff-f918-f917cf85c448"
      },
      "execution_count": 9,
      "outputs": [
        {
          "output_type": "execute_result",
          "data": {
            "text/plain": [
              "[18]"
            ]
          },
          "metadata": {},
          "execution_count": 9
        }
      ]
    },
    {
      "cell_type": "code",
      "source": [
        "Ceci.insert(1,\"Violin\")\n",
        "Ceci"
      ],
      "metadata": {
        "colab": {
          "base_uri": "https://localhost:8080/"
        },
        "id": "lDq3WT_gG6tQ",
        "outputId": "cbd94a83-881e-46d4-f134-7d9d9309849a"
      },
      "execution_count": 16,
      "outputs": [
        {
          "output_type": "execute_result",
          "data": {
            "text/plain": [
              "[18, 'Violin', 'Violin', 'Violin', 'Violin', 'Perro', 1.62]"
            ]
          },
          "metadata": {},
          "execution_count": 16
        }
      ]
    },
    {
      "cell_type": "code",
      "source": [
        "Ceci.append(1.62)\n",
        "Ceci"
      ],
      "metadata": {
        "colab": {
          "base_uri": "https://localhost:8080/"
        },
        "id": "eXvYoF8MHPhB",
        "outputId": "150774b8-0f19-4299-b7f7-248b41f319c1"
      },
      "execution_count": 12,
      "outputs": [
        {
          "output_type": "execute_result",
          "data": {
            "text/plain": [
              "[18, 'Violin', 'Violin', 1.62]"
            ]
          },
          "metadata": {},
          "execution_count": 12
        }
      ]
    },
    {
      "cell_type": "code",
      "source": [
        "Ceci.insert(4, \"Perro\")\n",
        "Ceci[0:2]"
      ],
      "metadata": {
        "colab": {
          "base_uri": "https://localhost:8080/"
        },
        "id": "SN-YZJB9Ho9j",
        "outputId": "42935e37-d95e-4e8f-edcc-39fd6fb0c100"
      },
      "execution_count": 21,
      "outputs": [
        {
          "output_type": "execute_result",
          "data": {
            "text/plain": [
              "[18, 'Violin']"
            ]
          },
          "metadata": {},
          "execution_count": 21
        }
      ]
    },
    {
      "cell_type": "code",
      "source": [
        "Indices [0::3]"
      ],
      "metadata": {
        "colab": {
          "base_uri": "https://localhost:8080/"
        },
        "id": "dIWHObDaNhNp",
        "outputId": "74abc7ca-d2c9-4749-98f5-ad1590b4b547"
      },
      "execution_count": 22,
      "outputs": [
        {
          "output_type": "execute_result",
          "data": {
            "text/plain": [
              "[0, 3, 6, 9]"
            ]
          },
          "metadata": {},
          "execution_count": 22
        }
      ]
    }
  ]
}