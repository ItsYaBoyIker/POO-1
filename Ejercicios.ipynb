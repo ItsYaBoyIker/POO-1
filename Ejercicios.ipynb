{
  "nbformat": 4,
  "nbformat_minor": 0,
  "metadata": {
    "colab": {
      "provenance": []
    },
    "kernelspec": {
      "name": "python3",
      "display_name": "Python 3"
    },
    "language_info": {
      "name": "python"
    }
  },
  "cells": [
    {
      "cell_type": "code",
      "execution_count": 1,
      "metadata": {
        "colab": {
          "base_uri": "https://localhost:8080/"
        },
        "id": "dYtwb26G5WIR",
        "outputId": "635dc0fb-eaeb-4faa-b9da-65cfd73598c9"
      },
      "outputs": [
        {
          "output_type": "stream",
          "name": "stdout",
          "text": [
            "Hola Mundo\n"
          ]
        }
      ],
      "source": [
        "print(\"Hola Mundo\")\n"
      ]
    },
    {
      "cell_type": "code",
      "source": [
        "nombre = \"Iker\"\n",
        "print(nombre)"
      ],
      "metadata": {
        "colab": {
          "base_uri": "https://localhost:8080/"
        },
        "id": "1HAJKkeI5nKz",
        "outputId": "67860a93-4ad3-4926-bca4-b9cd6c4e0c2d"
      },
      "execution_count": 3,
      "outputs": [
        {
          "output_type": "stream",
          "name": "stdout",
          "text": [
            "Iker\n"
          ]
        }
      ]
    },
    {
      "cell_type": "code",
      "source": [
        "num = int(input(\"Introduce un numero \"))\n",
        "result = num * 2\n",
        "print(f\"El doble de {num} es {result}\")"
      ],
      "metadata": {
        "colab": {
          "base_uri": "https://localhost:8080/"
        },
        "id": "RkkenXkv5t6N",
        "outputId": "3a1bc9c1-7f6f-4919-bf62-6d48fc861f31"
      },
      "execution_count": 6,
      "outputs": [
        {
          "output_type": "stream",
          "name": "stdout",
          "text": [
            "Introduce un numero 3\n",
            "El doble de 3 es 6\n"
          ]
        }
      ]
    },
    {
      "cell_type": "code",
      "source": [
        "num1 = int(input(\"Introduce un numero \"))\n",
        "num2 = int(input(\"Introduce otro numero \"))\n",
        "result = num1 + num2\n",
        "print(f\"La suma de {num1} y {num2} es {result}\")"
      ],
      "metadata": {
        "colab": {
          "base_uri": "https://localhost:8080/"
        },
        "id": "A90_lkz65_W8",
        "outputId": "163d3a2e-bd44-4dc3-891f-6464ce8ad60f"
      },
      "execution_count": 7,
      "outputs": [
        {
          "output_type": "stream",
          "name": "stdout",
          "text": [
            "Introduce un numero 3\n",
            "Introduce otro numero 4\n",
            "La suma de 3 y 4 es 7\n"
          ]
        }
      ]
    },
    {
      "cell_type": "code",
      "source": [
        "lista = [1,2,3,4,5]\n",
        "print(f\"El primer numero de la lista es {lista[0]} y el ultimo es {lista[4]}\")"
      ],
      "metadata": {
        "colab": {
          "base_uri": "https://localhost:8080/"
        },
        "id": "Jv-LnmJI6Kn8",
        "outputId": "2b1c0c73-a4a0-41f7-9906-5420ba474040"
      },
      "execution_count": 12,
      "outputs": [
        {
          "output_type": "stream",
          "name": "stdout",
          "text": [
            "El primer numero de la lista es 1 y el ultimo es 5\n"
          ]
        }
      ]
    },
    {
      "cell_type": "code",
      "source": [
        "numpar = int(input(\"Introduce un numero \"))\n",
        "if numpar % 2 == 0:\n",
        "    print(f\"{numpar} es un numero par\")\n",
        "else:\n",
        "    print(f\"{numpar} es un numero impar\")"
      ],
      "metadata": {
        "colab": {
          "base_uri": "https://localhost:8080/"
        },
        "id": "eD0MDpsS-U5u",
        "outputId": "24de124d-f126-4823-e9f0-25e5cc867ea5"
      },
      "execution_count": 13,
      "outputs": [
        {
          "output_type": "stream",
          "name": "stdout",
          "text": [
            "Introduce un numero 4\n",
            "4 es un numero par\n"
          ]
        }
      ]
    },
    {
      "cell_type": "code",
      "source": [
        "for i in range(1, 11):\n",
        "    print(i)"
      ],
      "metadata": {
        "colab": {
          "base_uri": "https://localhost:8080/"
        },
        "id": "v57XteFp-hjQ",
        "outputId": "21fd238c-d313-4c79-b032-c55be3b6d305"
      },
      "execution_count": 14,
      "outputs": [
        {
          "output_type": "stream",
          "name": "stdout",
          "text": [
            "1\n",
            "2\n",
            "3\n",
            "4\n",
            "5\n",
            "6\n",
            "7\n",
            "8\n",
            "9\n",
            "10\n"
          ]
        }
      ]
    },
    {
      "cell_type": "code",
      "source": [
        "suma = 0\n",
        "for i in range(1, 101):\n",
        "    suma += i\n",
        "print(\"La suma de los primeros 100 números naturales es:\", suma)"
      ],
      "metadata": {
        "colab": {
          "base_uri": "https://localhost:8080/"
        },
        "id": "F7S9U92o_vPB",
        "outputId": "87cb7053-69de-48c6-8aa8-0e08bde09500"
      },
      "execution_count": 15,
      "outputs": [
        {
          "output_type": "stream",
          "name": "stdout",
          "text": [
            "La suma de los primeros 100 números naturales es: 5050\n"
          ]
        }
      ]
    },
    {
      "cell_type": "code",
      "source": [
        "numcuad = int(input(\"Introduce un numero\"))\n",
        "resultado = numcuad * numcuad\n",
        "print(\"El cuadrado de\", numcuad, \"es\", resultado)"
      ],
      "metadata": {
        "colab": {
          "base_uri": "https://localhost:8080/"
        },
        "id": "0C9wngV-CwxT",
        "outputId": "826d9066-1f42-4cf7-8f10-e220a922cc87"
      },
      "execution_count": 16,
      "outputs": [
        {
          "output_type": "stream",
          "name": "stdout",
          "text": [
            "Introduce un numero3\n",
            "El cuadrado de 3 es 9\n"
          ]
        }
      ]
    },
    {
      "cell_type": "code",
      "source": [
        "palabra = input(\"Ingrese una palabra \")\n",
        "vocales = \"aeiouAEIOU\"\n",
        "cont = 0\n",
        "for letra in palabra:\n",
        "  if letra in vocales:\n",
        "    cont += 1\n",
        "print(f\"La palabra {palabra} tiene {cont} vocales\")\n"
      ],
      "metadata": {
        "colab": {
          "base_uri": "https://localhost:8080/"
        },
        "id": "Qn3fQ8Ur8tQp",
        "outputId": "8635cd23-7608-4194-a277-551b38d3b656"
      },
      "execution_count": 17,
      "outputs": [
        {
          "output_type": "stream",
          "name": "stdout",
          "text": [
            "Ingrese una palabra probando\n",
            "La palabra probando tiene 3 vocales\n"
          ]
        }
      ]
    },
    {
      "cell_type": "code",
      "source": [
        "for i in range (1,11):\n",
        "  if i%2 == 0:\n",
        "    print(f\"Los pares del 1 al 10 son {i}\")"
      ],
      "metadata": {
        "colab": {
          "base_uri": "https://localhost:8080/"
        },
        "id": "tz8hlggtH7yn",
        "outputId": "c51601ab-f921-4a11-cd30-4157d18c70c3"
      },
      "execution_count": 18,
      "outputs": [
        {
          "output_type": "stream",
          "name": "stdout",
          "text": [
            "Los pares del 1 al 10 son 2\n",
            "Los pares del 1 al 10 son 4\n",
            "Los pares del 1 al 10 son 6\n",
            "Los pares del 1 al 10 son 8\n",
            "Los pares del 1 al 10 son 10\n"
          ]
        }
      ]
    },
    {
      "cell_type": "code",
      "source": [],
      "metadata": {
        "id": "Jf2wHxECS9QN"
      },
      "execution_count": null,
      "outputs": []
    },
    {
      "cell_type": "code",
      "source": [
        "numeros = [10, 5, 30, 25, 40]\n",
        "maximo = numeros[0]\n",
        "for num in numeros:\n",
        "    if num > maximo:\n",
        "        maximo = num\n",
        "print(f\"El número más grande es: {maximo}\")\n"
      ],
      "metadata": {
        "id": "MswhZNrfQaKg"
      },
      "execution_count": null,
      "outputs": []
    },
    {
      "cell_type": "code",
      "source": [],
      "metadata": {
        "colab": {
          "base_uri": "https://localhost:8080/"
        },
        "id": "3JJHVAB3TgWP",
        "outputId": "2244f20f-4a96-4d80-e6ee-a5c8150004b2"
      },
      "execution_count": 19,
      "outputs": [
        {
          "output_type": "stream",
          "name": "stdout",
          "text": [
            "Introduce texto:Prueba\n",
            "El numero de vocales es 1\n",
            "El numero de vocales es 2\n",
            "El numero de vocales es 3\n"
          ]
        }
      ]
    }
  ]
}