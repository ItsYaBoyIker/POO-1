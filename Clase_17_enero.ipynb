{
  "nbformat": 4,
  "nbformat_minor": 0,
  "metadata": {
    "colab": {
      "provenance": []
    },
    "kernelspec": {
      "name": "python3",
      "display_name": "Python 3"
    },
    "language_info": {
      "name": "python"
    }
  },
  "cells": [
    {
      "cell_type": "code",
      "execution_count": null,
      "metadata": {
        "id": "g18a6GyIloXp"
      },
      "outputs": [],
      "source": []
    },
    {
      "cell_type": "markdown",
      "source": [
        "#Algunas funciones en Python\n"
      ],
      "metadata": {
        "id": "wyhNpOaclq5L"
      }
    },
    {
      "cell_type": "markdown",
      "source": [
        "1. input\n",
        "2. lambda\n",
        "3. map\n",
        "\n"
      ],
      "metadata": {
        "id": "nPB5_Eeclvts"
      }
    },
    {
      "cell_type": "markdown",
      "source": [
        "##Ejemplos de la funcion input\n"
      ],
      "metadata": {
        "id": "rxT9u0FXmc7W"
      }
    },
    {
      "cell_type": "code",
      "source": [
        "ceci = input(\"¿De quien es cumpleaños?\")"
      ],
      "metadata": {
        "colab": {
          "base_uri": "https://localhost:8080/"
        },
        "id": "c8Kfi_Xqmnjh",
        "outputId": "b9b0bb1d-813a-4a89-dd4c-d8930ca96b6d"
      },
      "execution_count": 13,
      "outputs": [
        {
          "name": "stdout",
          "output_type": "stream",
          "text": [
            "¿De quien es cumpleaños?Ceci\n"
          ]
        }
      ]
    },
    {
      "cell_type": "code",
      "source": [
        "edad = input(\"¿Cuantos años cumples?\")"
      ],
      "metadata": {
        "colab": {
          "base_uri": "https://localhost:8080/"
        },
        "id": "asw0fOCQna9l",
        "outputId": "0c3dccd9-565e-400d-ac1f-21793c91078b"
      },
      "execution_count": 15,
      "outputs": [
        {
          "name": "stdout",
          "output_type": "stream",
          "text": [
            "¿Cuantos años cumples?19\n"
          ]
        }
      ]
    },
    {
      "cell_type": "code",
      "source": [
        "print(f\"Hoy es cumple de {ceci} y cumple {edad}\")"
      ],
      "metadata": {
        "colab": {
          "base_uri": "https://localhost:8080/"
        },
        "id": "P3E_R-7OoQag",
        "outputId": "adac7c2a-aa51-4264-86c1-b33b6264a5a7"
      },
      "execution_count": 16,
      "outputs": [
        {
          "output_type": "stream",
          "name": "stdout",
          "text": [
            "Hoy es cumple de Ceci y cumple 19\n"
          ]
        }
      ]
    },
    {
      "cell_type": "markdown",
      "source": [
        "##La funcion lambda\n",
        " Es una función anónima (no tiene nombre) y sirve para crear funciones sin nombre llamadas ad hoc (dentro de un solo código)"
      ],
      "metadata": {
        "id": "ly5wc-3Eoq5Q"
      }
    },
    {
      "cell_type": "code",
      "source": [
        "def cuadrado(x):\n",
        "  z = x**2\n",
        "  return z"
      ],
      "metadata": {
        "id": "se7v_VhSpMkJ"
      },
      "execution_count": 7,
      "outputs": []
    },
    {
      "cell_type": "code",
      "source": [
        "operacion = lambda x, y: x**2 + x*y+2\n",
        "operacion(2, 3)"
      ],
      "metadata": {
        "id": "0rWgVVMeqg87"
      },
      "execution_count": 8,
      "outputs": []
    },
    {
      "cell_type": "code",
      "source": [
        "import math\n",
        "from math import pi, e"
      ],
      "metadata": {
        "id": "8oiGUA7ZrLi7"
      },
      "execution_count": 11,
      "outputs": []
    },
    {
      "cell_type": "code",
      "source": [
        "pi, e"
      ],
      "metadata": {
        "colab": {
          "base_uri": "https://localhost:8080/"
        },
        "id": "9kuPJxLlrRjW",
        "outputId": "f320bb4d-7980-406f-c82a-f714f0c1211b"
      },
      "execution_count": 12,
      "outputs": [
        {
          "output_type": "execute_result",
          "data": {
            "text/plain": [
              "(3.141592653589793, 2.718281828459045)"
            ]
          },
          "metadata": {},
          "execution_count": 12
        }
      ]
    },
    {
      "cell_type": "code",
      "source": [
        "area_circulo= lambda r : pi*r**2\n",
        "area_circulo(1)"
      ],
      "metadata": {
        "colab": {
          "base_uri": "https://localhost:8080/"
        },
        "id": "-DmtRusGreHI",
        "outputId": "dc972845-b76b-43fa-8fa4-e4182097f1da"
      },
      "execution_count": 17,
      "outputs": [
        {
          "output_type": "execute_result",
          "data": {
            "text/plain": [
              "3.141592653589793"
            ]
          },
          "metadata": {},
          "execution_count": 17
        }
      ]
    },
    {
      "cell_type": "markdown",
      "source": [
        "  ##La funcion map"
      ],
      "metadata": {
        "id": "Mg0rChKEry2I"
      }
    },
    {
      "cell_type": "code",
      "source": [
        "residuo = list(map(lambda x : x%2, [i for i in range(1,101)]))\n",
        "residuo"
      ],
      "metadata": {
        "colab": {
          "base_uri": "https://localhost:8080/"
        },
        "id": "27d5DvR0sOWj",
        "outputId": "ba7a2ee3-4e3c-4ee2-89a5-194c822bab8e"
      },
      "execution_count": 21,
      "outputs": [
        {
          "output_type": "execute_result",
          "data": {
            "text/plain": [
              "[1,\n",
              " 0,\n",
              " 1,\n",
              " 0,\n",
              " 1,\n",
              " 0,\n",
              " 1,\n",
              " 0,\n",
              " 1,\n",
              " 0,\n",
              " 1,\n",
              " 0,\n",
              " 1,\n",
              " 0,\n",
              " 1,\n",
              " 0,\n",
              " 1,\n",
              " 0,\n",
              " 1,\n",
              " 0,\n",
              " 1,\n",
              " 0,\n",
              " 1,\n",
              " 0,\n",
              " 1,\n",
              " 0,\n",
              " 1,\n",
              " 0,\n",
              " 1,\n",
              " 0,\n",
              " 1,\n",
              " 0,\n",
              " 1,\n",
              " 0,\n",
              " 1,\n",
              " 0,\n",
              " 1,\n",
              " 0,\n",
              " 1,\n",
              " 0,\n",
              " 1,\n",
              " 0,\n",
              " 1,\n",
              " 0,\n",
              " 1,\n",
              " 0,\n",
              " 1,\n",
              " 0,\n",
              " 1,\n",
              " 0,\n",
              " 1,\n",
              " 0,\n",
              " 1,\n",
              " 0,\n",
              " 1,\n",
              " 0,\n",
              " 1,\n",
              " 0,\n",
              " 1,\n",
              " 0,\n",
              " 1,\n",
              " 0,\n",
              " 1,\n",
              " 0,\n",
              " 1,\n",
              " 0,\n",
              " 1,\n",
              " 0,\n",
              " 1,\n",
              " 0,\n",
              " 1,\n",
              " 0,\n",
              " 1,\n",
              " 0,\n",
              " 1,\n",
              " 0,\n",
              " 1,\n",
              " 0,\n",
              " 1,\n",
              " 0,\n",
              " 1,\n",
              " 0,\n",
              " 1,\n",
              " 0,\n",
              " 1,\n",
              " 0,\n",
              " 1,\n",
              " 0,\n",
              " 1,\n",
              " 0,\n",
              " 1,\n",
              " 0,\n",
              " 1,\n",
              " 0,\n",
              " 1,\n",
              " 0,\n",
              " 1,\n",
              " 0,\n",
              " 1,\n",
              " 0]"
            ]
          },
          "metadata": {},
          "execution_count": 21
        }
      ]
    },
    {
      "cell_type": "code",
      "source": [
        "def residuo_(x):\n",
        "  for x in range(1,101):\n",
        "    return x%2"
      ],
      "metadata": {
        "id": "-un6hKWKrcnC"
      },
      "execution_count": 23,
      "outputs": []
    },
    {
      "cell_type": "code",
      "source": [
        "residuo_(3)"
      ],
      "metadata": {
        "colab": {
          "base_uri": "https://localhost:8080/"
        },
        "id": "en12xknuvH2h",
        "outputId": "87b2b996-d31d-4438-8424-3b140dd65ab6"
      },
      "execution_count": 24,
      "outputs": [
        {
          "output_type": "execute_result",
          "data": {
            "text/plain": [
              "1"
            ]
          },
          "metadata": {},
          "execution_count": 24
        }
      ]
    },
    {
      "cell_type": "code",
      "source": [
        "exponenciales = set(map(lambda x : e**x, [i for i in range(1,10)]))\n",
        "exponenciales\n"
      ],
      "metadata": {
        "colab": {
          "base_uri": "https://localhost:8080/"
        },
        "id": "OnlFXGlmvcKq",
        "outputId": "d3b7a304-5250-478f-9ec2-16f64fc9bdab"
      },
      "execution_count": 26,
      "outputs": [
        {
          "output_type": "execute_result",
          "data": {
            "text/plain": [
              "{2.718281828459045,\n",
              " 7.3890560989306495,\n",
              " 20.085536923187664,\n",
              " 54.59815003314423,\n",
              " 148.41315910257657,\n",
              " 403.428793492735,\n",
              " 1096.6331584284583,\n",
              " 2980.957987041727,\n",
              " 8103.08392757538}"
            ]
          },
          "metadata": {},
          "execution_count": 26
        }
      ]
    }
  ]
}