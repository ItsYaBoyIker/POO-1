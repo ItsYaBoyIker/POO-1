{
  "nbformat": 4,
  "nbformat_minor": 0,
  "metadata": {
    "colab": {
      "provenance": []
    },
    "kernelspec": {
      "name": "python3",
      "display_name": "Python 3"
    },
    "language_info": {
      "name": "python"
    }
  },
  "cells": [
    {
      "cell_type": "code",
      "execution_count": null,
      "metadata": {
        "id": "9Jc9PRgWAEyz"
      },
      "outputs": [],
      "source": [
        "import itertools\n",
        "from itertools import product"
      ]
    },
    {
      "cell_type": "markdown",
      "source": [
        "###Ejemplo del uso de la probabilidad clásico\n",
        "Tenemos el siguiente experimento. Lanzamos dos dados honestos\n",
        "$$\\Omega=\\{1,2,3,4,5,6\\}\\times \\{1,2,3,4,5,6\\}$$"
      ],
      "metadata": {
        "id": "WGUFkSugALKF"
      }
    },
    {
      "cell_type": "code",
      "source": [
        "Omega= set( product({1,2,3,4,5,6}, repeat=2) )\n",
        "Omega"
      ],
      "metadata": {
        "colab": {
          "base_uri": "https://localhost:8080/"
        },
        "id": "llSxnF2lBurD",
        "outputId": "eb33a647-ebc0-40d6-b7aa-29dff51d6ea4"
      },
      "execution_count": null,
      "outputs": [
        {
          "output_type": "execute_result",
          "data": {
            "text/plain": [
              "{(1, 1),\n",
              " (1, 2),\n",
              " (1, 3),\n",
              " (1, 4),\n",
              " (1, 5),\n",
              " (1, 6),\n",
              " (2, 1),\n",
              " (2, 2),\n",
              " (2, 3),\n",
              " (2, 4),\n",
              " (2, 5),\n",
              " (2, 6),\n",
              " (3, 1),\n",
              " (3, 2),\n",
              " (3, 3),\n",
              " (3, 4),\n",
              " (3, 5),\n",
              " (3, 6),\n",
              " (4, 1),\n",
              " (4, 2),\n",
              " (4, 3),\n",
              " (4, 4),\n",
              " (4, 5),\n",
              " (4, 6),\n",
              " (5, 1),\n",
              " (5, 2),\n",
              " (5, 3),\n",
              " (5, 4),\n",
              " (5, 5),\n",
              " (5, 6),\n",
              " (6, 1),\n",
              " (6, 2),\n",
              " (6, 3),\n",
              " (6, 4),\n",
              " (6, 5),\n",
              " (6, 6)}"
            ]
          },
          "metadata": {},
          "execution_count": 3
        }
      ]
    },
    {
      "cell_type": "markdown",
      "source": [
        "La probabilidad de un evento, se calcula como\n",
        "$$\\mathbb{P}(A)=\\frac{\\#A}{\\# \\Omega}. $$"
      ],
      "metadata": {
        "id": "GMZ6BFvjMdFK"
      }
    },
    {
      "cell_type": "markdown",
      "source": [
        "Consideremos al siguiente evento:\n",
        "\n",
        "\n",
        "*   $S$: la suma de los resultados de las caras sea 7\n"
      ],
      "metadata": {
        "id": "ra_XBdWDMiLE"
      }
    },
    {
      "cell_type": "code",
      "source": [
        "S={o for o in Omega if (o[0]+o[1]== 7)}\n",
        "S"
      ],
      "metadata": {
        "colab": {
          "base_uri": "https://localhost:8080/"
        },
        "id": "8KdaZGPzOT66",
        "outputId": "ee909d52-dc6b-4d0c-fd32-d8b83b0e4025"
      },
      "execution_count": null,
      "outputs": [
        {
          "output_type": "execute_result",
          "data": {
            "text/plain": [
              "{(1, 6), (2, 5), (3, 4), (4, 3), (5, 2), (6, 1)}"
            ]
          },
          "metadata": {},
          "execution_count": 5
        }
      ]
    },
    {
      "cell_type": "code",
      "source": [
        "p=len(S)/len(Omega)\n",
        "print(f\"La probabilidad que la suma sea 7 es: {p}\")"
      ],
      "metadata": {
        "colab": {
          "base_uri": "https://localhost:8080/"
        },
        "id": "n5OlJyKxOq24",
        "outputId": "d6167e10-6f7b-4036-8031-c5490497141c"
      },
      "execution_count": null,
      "outputs": [
        {
          "output_type": "stream",
          "name": "stdout",
          "text": [
            "La probabilidad que la suma sea 7 es: 0.16666666666666666\n"
          ]
        }
      ]
    },
    {
      "cell_type": "code",
      "source": [
        "from fractions import Fraction\n",
        "Fraction (2,5)"
      ],
      "metadata": {
        "colab": {
          "base_uri": "https://localhost:8080/"
        },
        "id": "CXLLW7ZIO-yE",
        "outputId": "1961f43f-fe27-4076-e7c1-69221314e43c"
      },
      "execution_count": null,
      "outputs": [
        {
          "output_type": "execute_result",
          "data": {
            "text/plain": [
              "Fraction(2, 5)"
            ]
          },
          "metadata": {},
          "execution_count": 7
        }
      ]
    },
    {
      "cell_type": "code",
      "source": [
        "#Vamos a crear una función para calcular probabilidades\n",
        "def S(n):\n",
        "  S= {o for o in Omega if (o[0]+o[1])==n}\n",
        "  return S"
      ],
      "metadata": {
        "id": "ppKBLUgPPGVL"
      },
      "execution_count": null,
      "outputs": []
    },
    {
      "cell_type": "code",
      "source": [
        "S(2)"
      ],
      "metadata": {
        "colab": {
          "base_uri": "https://localhost:8080/"
        },
        "id": "J5_imdBbPltE",
        "outputId": "22fedd6d-89ac-480d-90de-04adc7106873"
      },
      "execution_count": null,
      "outputs": [
        {
          "output_type": "execute_result",
          "data": {
            "text/plain": [
              "{(1, 1)}"
            ]
          },
          "metadata": {},
          "execution_count": 11
        }
      ]
    },
    {
      "cell_type": "code",
      "source": [
        "S(3)"
      ],
      "metadata": {
        "colab": {
          "base_uri": "https://localhost:8080/"
        },
        "id": "Wy1Na0OzPoeL",
        "outputId": "f8ac8d93-1269-49bc-9198-df3c15aa8f43"
      },
      "execution_count": null,
      "outputs": [
        {
          "output_type": "execute_result",
          "data": {
            "text/plain": [
              "{(1, 2), (2, 1)}"
            ]
          },
          "metadata": {},
          "execution_count": 12
        }
      ]
    },
    {
      "cell_type": "code",
      "source": [
        "S(4)"
      ],
      "metadata": {
        "colab": {
          "base_uri": "https://localhost:8080/"
        },
        "id": "irXI72qaPtaL",
        "outputId": "176c55f2-7a45-4c71-df1a-d6da426da2aa"
      },
      "execution_count": null,
      "outputs": [
        {
          "output_type": "execute_result",
          "data": {
            "text/plain": [
              "{(1, 3), (2, 2), (3, 1)}"
            ]
          },
          "metadata": {},
          "execution_count": 13
        }
      ]
    },
    {
      "cell_type": "code",
      "source": [
        "len(Omega)"
      ],
      "metadata": {
        "colab": {
          "base_uri": "https://localhost:8080/"
        },
        "id": "0oOwTirMP7Ew",
        "outputId": "386ccdcd-1433-4168-8cd6-8b0023a56b81"
      },
      "execution_count": null,
      "outputs": [
        {
          "output_type": "execute_result",
          "data": {
            "text/plain": [
              "36"
            ]
          },
          "metadata": {},
          "execution_count": 14
        }
      ]
    },
    {
      "cell_type": "code",
      "source": [
        "#Vamos a crear la función de probabilidad\n",
        "def P(A,Omega):\n",
        "  return Fraction(len(A), len (Omega))"
      ],
      "metadata": {
        "id": "eoAC76i_P-U-"
      },
      "execution_count": null,
      "outputs": []
    },
    {
      "cell_type": "code",
      "source": [
        "P(S(7),Omega)"
      ],
      "metadata": {
        "colab": {
          "base_uri": "https://localhost:8080/"
        },
        "id": "Iq6OiKLzQOzk",
        "outputId": "dc71cc5e-e6bb-4a08-c2bf-3da48b1a4609"
      },
      "execution_count": null,
      "outputs": [
        {
          "output_type": "execute_result",
          "data": {
            "text/plain": [
              "Fraction(1, 6)"
            ]
          },
          "metadata": {},
          "execution_count": 16
        }
      ]
    },
    {
      "cell_type": "code",
      "source": [
        "P(S(9),Omega)"
      ],
      "metadata": {
        "colab": {
          "base_uri": "https://localhost:8080/"
        },
        "id": "dt0dwLjMQUH5",
        "outputId": "6706756a-d228-4a15-94e8-55fa651204fd"
      },
      "execution_count": null,
      "outputs": [
        {
          "output_type": "execute_result",
          "data": {
            "text/plain": [
              "Fraction(1, 9)"
            ]
          },
          "metadata": {},
          "execution_count": 17
        }
      ]
    },
    {
      "cell_type": "markdown",
      "source": [
        "##Matrices y operaciones"
      ],
      "metadata": {
        "id": "s9fi_oCnR9BR"
      }
    },
    {
      "cell_type": "code",
      "source": [
        "import numpy as np\n",
        "\n",
        "class Matriz:\n",
        "  def __init__(self, renglones, columnas):\n",
        "    self.renglones=renglones\n",
        "    self.columnas= columnas\n",
        "    self.coef = np.zeros((renglones, columnas))\n",
        "\n",
        "    def coeficientes(self):\n",
        "      print(f\"Ingresa los coeficientes de la matriz ({self.renglones}x{self.columnas})\")\n",
        "      for i in range(self.renglones):\n",
        "        self.coef[i]=map(float, input().split())\n",
        "\n",
        "        def mostrar_matriz(self):\n",
        "          print(self.coef)"
      ],
      "metadata": {
        "id": "rwfwrt9BR_hM"
      },
      "execution_count": null,
      "outputs": []
    },
    {
      "cell_type": "code",
      "source": [
        "mat=np.array([25,45,67,8,0,1,1,5,18]).reshape(3,3)\n",
        "np.linalg.det(mat)"
      ],
      "metadata": {
        "colab": {
          "base_uri": "https://localhost:8080/"
        },
        "id": "eCeSrxbYV6eo",
        "outputId": "6bcb1940-b9cc-412a-e69f-d0a46c61cded"
      },
      "execution_count": null,
      "outputs": [
        {
          "output_type": "execute_result",
          "data": {
            "text/plain": [
              "-3879.999999999998"
            ]
          },
          "metadata": {},
          "execution_count": 23
        }
      ]
    }
  ]
}